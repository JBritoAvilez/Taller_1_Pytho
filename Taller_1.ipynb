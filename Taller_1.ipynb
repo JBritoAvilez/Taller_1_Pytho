{
 "cells": [
  {
   "cell_type": "markdown",
   "id": "54fb8641",
   "metadata": {},
   "source": [
    "# Taller 1\n",
    "- Jonathan Emilio Brito Avilez\n",
    "- ID No.502196\n",
    "- jonathan.brito@upb.edu.co\n",
    "#### En este codigo se dara a presentar el como crear una cancion de regueton tulizando:\n",
    "- Genereador de numero aleatorio\n",
    "- Cuatro listas las cuales conllevaran las letras de la cancion\n",
    "- Un condicional el cual nos dara la opciones de crear o no la cancion\n",
    "- Un ciclo while el cual nos reperitara la cencuencia tantas veces "
   ]
  },
  {
   "cell_type": "code",
   "execution_count": null,
   "id": "a4b62cb3",
   "metadata": {},
   "outputs": [],
   "source": [
    "import random\n",
    "desicion = input(\"Deseas crear una cancion? \")\n",
    "artista = input(\"Digite su nombre artistico: \")\n",
    "counter = 0\n",
    "\n",
    "fila_1=[\"mami \", \"yo quiero \", \"encenderte \", \"suave \", \"hasta que salga el sol \", \"sin anestesia \"]\n",
    "fila_2=[\" bebe \", \" yo puedo \", \" amarte \", \" lento \", \" toda la noche \", \" sin compromiso \"]\n",
    "fila_3=[\"pincess \", \"yo vengo a\", \"ligar \", \"rapido \", \"hasta el amanecer \", \"feis to feis \"]\n",
    "fila_4=[\" mami \", \" voy a \", \" jugar \", \" fuerte \", \" todo el dia \", \" sin miedo \"]\n",
    "\n",
    "if desicion == \"si\":\n",
    "    while counter <= 3:\n",
    "        print(fila_1[random.randint(0, 5)] + fila_2[random.randint(0, 5)] +\n",
    "              fila_3[random.randint(0, 5)] +artista+ fila_4[random.randint(0, 5)])\n",
    "        print(fila_1[random.randint(0, 5)] + fila_2[random.randint(0, 5)] +\n",
    "              fila_3[random.randint(0, 5)] +artista+ fila_4[random.randint(0, 5)])\n",
    "        counter += 1\n",
    "    print(\"Autor y compositor: \"+ artista)\n",
    "else:\n",
    "    print(\"No se Creara una cancion\")"
   ]
  }
 ],
 "metadata": {
  "kernelspec": {
   "display_name": "Python 3 (ipykernel)",
   "language": "python",
   "name": "python3"
  },
  "language_info": {
   "codemirror_mode": {
    "name": "ipython",
    "version": 3
   },
   "file_extension": ".py",
   "mimetype": "text/x-python",
   "name": "python",
   "nbconvert_exporter": "python",
   "pygments_lexer": "ipython3",
   "version": "3.9.12"
  }
 },
 "nbformat": 4,
 "nbformat_minor": 5
}
